{
 "cells": [
  {
   "cell_type": "code",
   "execution_count": 1,
   "id": "80a47a1b-26b8-4be8-867c-0a71627363d7",
   "metadata": {},
   "outputs": [],
   "source": [
    "import os\n",
    "os.chdir(\"..\")\n",
    "\n",
    "import torch\n",
    "import torch.nn as nn\n",
    "import torch.nn.functional as F\n",
    "import numpy as np\n",
    "\n",
    "import matplotlib.pyplot as plt\n",
    "plt.rcParams[\"font.family\"] = \"serif\"\n",
    "\n",
    "import subprocess\n",
    "from tqdm import tqdm"
   ]
  },
  {
   "cell_type": "markdown",
   "id": "c25506ea-7d02-4236-9d88-87d432f32391",
   "metadata": {},
   "source": [
    "## Load data"
   ]
  },
  {
   "cell_type": "code",
   "execution_count": 2,
   "id": "8ef6cab2-48e8-41e9-b940-3f2761db5111",
   "metadata": {},
   "outputs": [],
   "source": [
    "def mirror_piece(pieces):\n",
    "    return ((1 - pieces // 6) * 6 + (pieces % 6))\n",
    "\n",
    "def mirror_square(squares):\n",
    "    return squares ^ 56\n",
    "\n",
    "def load_batch():\n",
    "    squares = torch.tensor(np.load(\"data/batch/square.npy\")).to(torch.long)   # int8,  (K, 32)\n",
    "    pieces  = torch.tensor(np.load(\"data/batch/piece.npy\")).to(torch.long)    # int8,  (K, 32)\n",
    "    results = torch.tensor(np.load(\"data/batch/result.npy\")).to(torch.float)  # int8,  (K,)\n",
    "    side    = torch.tensor(np.load(\"data/batch/side.npy\"))[:, None]           # int8,  (K,)  1=white,0=black\n",
    "    \n",
    "    valid = squares != -1\n",
    "    \n",
    "    idx_w = pieces * 64 + squares\n",
    "    idx_b = mirror_piece(pieces) * 64 + mirror_square(squares)\n",
    "    idx_w = torch.where(valid, idx_w, 768)\n",
    "    idx_b = torch.where(valid, idx_b, 768)\n",
    "    idx_p = side * idx_w + (1-side) * idx_b\n",
    "    idx_o = side * idx_b + (1-side) * idx_w\n",
    "    return idx_p, idx_o, -results"
   ]
  },
  {
   "cell_type": "markdown",
   "id": "92b01db0-15cc-4923-90f9-b6f75e197973",
   "metadata": {},
   "source": [
    "## Model"
   ]
  },
  {
   "cell_type": "code",
   "execution_count": 3,
   "id": "17d3d6be-e779-4a3b-a1b1-28edc721dc1f",
   "metadata": {},
   "outputs": [],
   "source": [
    "class Squirrel(nn.Module):\n",
    "    \"\"\"\n",
    "    PyTorch implementation of the 'body' + 'critic' part of Squirrel.\n",
    "    Expects two index tensors (own perspective idx_p, opponent idx_o) of shape (B, 32), \n",
    "    with padding index 768 for empty slots.\n",
    "    \"\"\"\n",
    "    def __init__(self, emb_dim=256):\n",
    "        super().__init__()\n",
    "        \n",
    "        # B0 embedding  (768 pieces + padding)\n",
    "        self.embed = nn.EmbeddingBag(num_embeddings=769, embedding_dim=emb_dim, mode=\"sum\", sparse=False, padding_idx=768)\n",
    "\n",
    "        # B1p / B1o\n",
    "        self.b1p = nn.Linear(emb_dim, 32)\n",
    "        self.b1o = nn.Linear(emb_dim, 32)\n",
    "\n",
    "        # B2 and critic head\n",
    "        self.b2  = nn.Linear(64, 32)\n",
    "        self.c1  = nn.Linear(32, 1)\n",
    "\n",
    "        self.relu = nn.ReLU()\n",
    "\n",
    "    def forward(self, idx_p, idx_o):\n",
    "        \"\"\"\n",
    "        idx_p : (B, 32) own‑perspective indices\n",
    "        idx_o : (B, 32) opponent‑perspective indices\n",
    "        Returns critic value tensor shape (B, 1)\n",
    "        \"\"\"\n",
    "        # Embedding\n",
    "        emb_p = self.embed(idx_p)\n",
    "        emb_o = self.embed(idx_o)\n",
    "        xo = self.relu(emb_o)\n",
    "        xp = self.relu(emb_p)\n",
    "\n",
    "        # Body\n",
    "        x1p = self.relu(self.b1p(xp)) # (B, 32)\n",
    "        x1o = self.relu(self.b1o(xo)) # (B, 32)\n",
    "        x2 = self.relu(self.b2(\n",
    "            torch.cat([x1p, x1o], dim=1)\n",
    "        )) # (B, 32)\n",
    "\n",
    "        # Critic\n",
    "        value = self.c1(x2)                         # (B, 1)\n",
    "        \n",
    "        return value"
   ]
  },
  {
   "cell_type": "markdown",
   "id": "13918e8a-e2a5-4aa0-b29e-16bf6ec3f784",
   "metadata": {},
   "source": [
    "## Train"
   ]
  },
  {
   "cell_type": "code",
   "execution_count": 4,
   "id": "62e4ccb8-8086-4750-8ab1-f2a255cd688a",
   "metadata": {},
   "outputs": [],
   "source": [
    "def train_epoch(batch_size=1024):\n",
    "    \"\"\"\n",
    "    Trains the model for one epoch using mini-batch gradient descent.\n",
    "    Returns average train and test loss.\n",
    "    \"\"\"\n",
    "    model.train()\n",
    "\n",
    "    num_samples = Xp_train.size(0)\n",
    "    num_batches = (num_samples + batch_size - 1) // batch_size\n",
    "    total_loss = 0.0\n",
    "\n",
    "    # for i in tqdm(range(0, num_samples, batch_size), bar_format='{l_bar}{bar:10}{r_bar}{bar:-10b}'):\n",
    "    for i in range(0, num_samples, batch_size):\n",
    "        Xpb = Xp_train[i:i+batch_size]\n",
    "        Xob = Xo_train[i:i+batch_size]\n",
    "        Yb  = Y_train[i:i+batch_size]\n",
    "\n",
    "        optimizer.zero_grad()\n",
    "        pred = model(Xpb, Xob).squeeze(-1)\n",
    "        loss = F.mse_loss(pred, Yb)\n",
    "        loss.backward()\n",
    "        optimizer.step()\n",
    "        total_loss += loss.item() * Xpb.size(0)\n",
    "\n",
    "    avg_train_loss = total_loss / num_samples\n",
    "\n",
    "    # Evaluate on test data\n",
    "    model.eval()\n",
    "    with torch.no_grad():\n",
    "        pred_test = model(Xp_test, Xo_test).squeeze(-1)\n",
    "        test_loss = F.mse_loss(pred_test, Y_test).item()\n",
    "\n",
    "    return avg_train_loss, test_loss"
   ]
  },
  {
   "cell_type": "markdown",
   "id": "952ff527-4a55-4e38-bad5-5c056f411c77",
   "metadata": {},
   "source": [
    "## Save"
   ]
  },
  {
   "cell_type": "code",
   "execution_count": 5,
   "id": "122462fc-fd14-4bdd-8421-dbae76e883e1",
   "metadata": {},
   "outputs": [],
   "source": [
    "def save_weights(out_dir=\"data/weights\"):\n",
    "    \"\"\"\n",
    "    Save weights of a trained Squirrel model to .npy files in the specified directory.\n",
    "    The layout and names match the convention used for model loading in C++.\n",
    "    \"\"\"\n",
    "    os.makedirs(out_dir, exist_ok=True)\n",
    "\n",
    "    def save(name, tensor):\n",
    "        arr = tensor.detach().cpu().numpy().astype(np.float32)\n",
    "        np.save(f\"{out_dir}/{name}.npy\", arr)\n",
    "\n",
    "    # B0: embedding weight (768+1, 256) → save first 768 rows and transpose\n",
    "    save(\"B0-768-256-w\", model.embed.weight[:768]) # shape (768, 256)\n",
    "\n",
    "    # Embedding bias: not present — store zero bias\n",
    "    save(\"B0-256-a\", torch.zeros(256, dtype=torch.float32))\n",
    "\n",
    "    # B1p\n",
    "    save(\"B1p-32-256-w\", model.b1p.weight)\n",
    "    save(\"B1p-32-a\",     model.b1p.bias)\n",
    "\n",
    "    # B1o\n",
    "    save(\"B1o-32-256-w\", model.b1o.weight)\n",
    "    save(\"B1o-32-a\",     model.b1o.bias)\n",
    "\n",
    "    # B2 (input is 64-dim: concat of 32 + 32)\n",
    "    save(\"B2-32-64-w\", model.b2.weight)\n",
    "    save(\"B2-32-a\",     model.b2.bias)\n",
    "\n",
    "    # C1\n",
    "    save(\"C1-1-32-w\", model.c1.weight)\n",
    "    save(\"C1-1-a\",     model.c1.bias)"
   ]
  },
  {
   "cell_type": "markdown",
   "id": "cdc44d62-c743-4dc4-aedb-e5bbf5892c7c",
   "metadata": {},
   "source": [
    "## Main"
   ]
  },
  {
   "cell_type": "code",
   "execution_count": 7,
   "id": "2b358e80-1057-477a-bbcf-7afbea98ce21",
   "metadata": {},
   "outputs": [],
   "source": [
    "model = Squirrel()\n",
    "optimizer = torch.optim.Adam(model.parameters(), lr=1e-3, weight_decay=1e-4)"
   ]
  },
  {
   "cell_type": "code",
   "execution_count": null,
   "id": "1df4c1c5-1024-40fb-bc69-da962bb00fc7",
   "metadata": {},
   "outputs": [],
   "source": [
    "# model.load_state_dict(torch.load(\"data/weights/00.pt\"))"
   ]
  },
  {
   "cell_type": "code",
   "execution_count": null,
   "id": "10fa393a-f180-412c-bfdf-a14ac4916d49",
   "metadata": {},
   "outputs": [
    {
     "name": "stdout",
     "output_type": "stream",
     "text": [
      "77    | 0.2139 | 0.2128\r"
     ]
    }
   ],
   "source": [
    "epoch = 0;\n",
    "while True:\n",
    "    epoch += 1;\n",
    "    \n",
    "    res_play = subprocess.run([r'bin\\play', '50', '8'], capture_output=True, text=True)\n",
    "    res_dump = subprocess.run([r'bin\\dump', '100000', '0'], capture_output=True, text=True)\n",
    "    # print(res_dump.stdout)\n",
    "\n",
    "    Xp, Xo, Y = load_batch()\n",
    "    \n",
    "    N = 1024 * 6\n",
    "    idx = torch.randperm(Y.size(0))\n",
    "    idx_train = idx[:round(N * 0.50)]\n",
    "    idx_test = idx[round(N * 0.50):N]\n",
    "    \n",
    "    Xp_train, Xp_test = Xp[idx_train], Xp[idx_test]\n",
    "    Xo_train, Xo_test = Xo[idx_train], Xo[idx_test]\n",
    "    Y_train, Y_test = Y[idx_train], Y[idx_test]\n",
    "    \n",
    "    del Xp, Xo, Y;\n",
    "\n",
    "    # print(f\"epoch | train  | test\")\n",
    "    tr, te = train_epoch()\n",
    "    print(f\"{epoch+1:2d}    | {tr:.4f} | {te:.4f}\", end='\\r')\n",
    "\n",
    "    save_weights()\n",
    "    torch.save(model.state_dict(), f\"data/weights/00.pt\")"
   ]
  },
  {
   "cell_type": "code",
   "execution_count": 63,
   "id": "faa92892-ab92-4517-8f3d-2dab48832496",
   "metadata": {},
   "outputs": [],
   "source": []
  },
  {
   "cell_type": "code",
   "execution_count": 58,
   "id": "c07c0c0a-bc17-4f59-97ff-00512e57a07e",
   "metadata": {},
   "outputs": [],
   "source": []
  },
  {
   "cell_type": "code",
   "execution_count": null,
   "id": "3e95a183-f754-4065-b221-0071300e757b",
   "metadata": {},
   "outputs": [],
   "source": []
  },
  {
   "cell_type": "code",
   "execution_count": null,
   "id": "897a72b4-695c-428c-94c9-fdaadf4e8450",
   "metadata": {},
   "outputs": [],
   "source": []
  },
  {
   "cell_type": "code",
   "execution_count": null,
   "id": "1ef2eeae-4f10-4a2b-8f27-c38b60d91327",
   "metadata": {},
   "outputs": [],
   "source": [
    "# # positions    305043\n",
    "# avg len        103.06 +- 57.93\n",
    "# P(-1 0 +1)     0.27 0.27 0.46\n",
    "# corr(res, val) 0.19"
   ]
  },
  {
   "cell_type": "code",
   "execution_count": null,
   "id": "73b21d2e-3161-46af-bdaa-7234e8472bdb",
   "metadata": {},
   "outputs": [],
   "source": [
    "# # positions    113421\n",
    "# avg len        112.08 +- 76.65\n",
    "# P(-1 0 +1)     0.28 0.24 0.48\n",
    "# corr(res, val) 0.15"
   ]
  }
 ],
 "metadata": {
  "kernelspec": {
   "display_name": "Python 3 (ipykernel)",
   "language": "python",
   "name": "python3"
  },
  "language_info": {
   "codemirror_mode": {
    "name": "ipython",
    "version": 3
   },
   "file_extension": ".py",
   "mimetype": "text/x-python",
   "name": "python",
   "nbconvert_exporter": "python",
   "pygments_lexer": "ipython3",
   "version": "3.12.4"
  }
 },
 "nbformat": 4,
 "nbformat_minor": 5
}
