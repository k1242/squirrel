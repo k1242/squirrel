{
 "cells": [
  {
   "cell_type": "code",
   "execution_count": 1,
   "id": "b8f5faae-b526-456a-b09a-740a05dbbebb",
   "metadata": {},
   "outputs": [],
   "source": [
    "import os\n",
    "os.chdir(\"..\")\n",
    "from pathlib import Path"
   ]
  },
  {
   "cell_type": "code",
   "execution_count": 20,
   "id": "4c4489ae-b5f8-4f75-aa39-09db40d271c9",
   "metadata": {},
   "outputs": [],
   "source": [
    "def print_tree(root: Path, indent: str = \"\") -> None:\n",
    "    \"\"\"\n",
    "    Recursively prints a directory tree starting from *root*.\n",
    "    \"\"\"\n",
    "    entries = sorted(root.iterdir(), key=lambda p: (p.is_file(), p.name.lower()))\n",
    "    last_index = len(entries) - 1\n",
    "\n",
    "    for index, entry in enumerate(entries):\n",
    "        if entry.name in [\"bin\", \"games\", \".git\", \"build\", \"tests\", \"notebooks\"]:\n",
    "            continue\n",
    "        connector = \"└── \" if index == last_index else \"├── \"\n",
    "        print(f\"{indent}{connector}{entry.name}\")\n",
    "\n",
    "        if entry.is_dir():\n",
    "            extension = \"    \" if index == last_index else \"│   \"\n",
    "            print_tree(entry, indent + extension)"
   ]
  },
  {
   "cell_type": "code",
   "execution_count": 21,
   "id": "15a68179-9f12-487c-bba0-0e99efc121bf",
   "metadata": {},
   "outputs": [
    {
     "name": "stdout",
     "output_type": "stream",
     "text": [
      "squirrel\n",
      "├── data\n",
      "│   └── weights\n",
      "│       ├── A0-768-32-w.npy\n",
      "│       ├── A1-32-32-w.npy\n",
      "│       ├── A1-32-a.npy\n",
      "│       ├── A2-1-32-w.npy\n",
      "│       ├── A2-1-a.npy\n",
      "│       ├── B0-256-a.npy\n",
      "│       ├── B0-768-256-w.npy\n",
      "│       ├── B1o-32-256-w.npy\n",
      "│       ├── B1o-32-a.npy\n",
      "│       ├── B1p-32-256-w.npy\n",
      "│       ├── B1p-32-a.npy\n",
      "│       ├── B2-32-64-w.npy\n",
      "│       ├── B2-32-a.npy\n",
      "│       ├── C1-1-32-w.npy\n",
      "│       └── C1-1-a.npy\n",
      "├── src\n",
      "│   ├── engine\n",
      "│   │   ├── Board.cpp\n",
      "│   │   ├── Board.hpp\n",
      "│   │   ├── Move.cpp\n",
      "│   │   ├── Move.hpp\n",
      "│   │   ├── movegen.cpp\n",
      "│   │   ├── movegen.hpp\n",
      "│   │   ├── notation.cpp\n",
      "│   │   └── notation.hpp\n",
      "│   ├── exec\n",
      "│   │   └── selfplay_main.cpp\n",
      "│   ├── mcts\n",
      "│   │   ├── Squirrel.cpp\n",
      "│   │   ├── Squirrel.hpp\n",
      "│   │   ├── Tree.cpp\n",
      "│   │   └── Tree.hpp\n",
      "│   ├── selfplay\n",
      "│   │   ├── format.hpp\n",
      "│   │   ├── load.cpp\n",
      "│   │   ├── load.hpp\n",
      "│   │   └── selfplay.cpp\n",
      "│   ├── test\n",
      "│   │   └── test_load_game.cpp\n",
      "│   └── utils\n",
      "│       ├── cnpy.cpp\n",
      "│       ├── cnpy.h\n",
      "│       ├── cnpy_impl.inl\n",
      "│       ├── lin.cpp\n",
      "│       ├── lin.hpp\n",
      "│       ├── Linear.hpp\n",
      "│       ├── random.hpp\n",
      "│       └── types.hpp\n",
      "├── .gitignore\n",
      "├── build.bat\n",
      "└── LICENSE\n"
     ]
    }
   ],
   "source": [
    "project_root = Path(\".\").resolve()\n",
    "print(project_root.name)\n",
    "print_tree(project_root)"
   ]
  },
  {
   "cell_type": "code",
   "execution_count": null,
   "id": "5e46f55d-ca53-4b98-91fc-7635084199dd",
   "metadata": {},
   "outputs": [],
   "source": []
  },
  {
   "cell_type": "code",
   "execution_count": null,
   "id": "99018505-3e3f-42eb-8543-faf234130f63",
   "metadata": {},
   "outputs": [],
   "source": []
  },
  {
   "cell_type": "code",
   "execution_count": null,
   "id": "75fa32e1-013d-4517-93e5-ad53abbf2470",
   "metadata": {},
   "outputs": [],
   "source": []
  },
  {
   "cell_type": "code",
   "execution_count": 22,
   "id": "bf65d614-6ece-48f5-8b58-08d4008dfd84",
   "metadata": {},
   "outputs": [],
   "source": [
    "import numpy as np"
   ]
  },
  {
   "cell_type": "code",
   "execution_count": null,
   "id": "b08383b6-459f-4ffd-91ef-ba4f0d9bed34",
   "metadata": {},
   "outputs": [],
   "source": [
    "np.countrz"
   ]
  }
 ],
 "metadata": {
  "kernelspec": {
   "display_name": "Python 3 (ipykernel)",
   "language": "python",
   "name": "python3"
  },
  "language_info": {
   "codemirror_mode": {
    "name": "ipython",
    "version": 3
   },
   "file_extension": ".py",
   "mimetype": "text/x-python",
   "name": "python",
   "nbconvert_exporter": "python",
   "pygments_lexer": "ipython3",
   "version": "3.12.4"
  }
 },
 "nbformat": 4,
 "nbformat_minor": 5
}
