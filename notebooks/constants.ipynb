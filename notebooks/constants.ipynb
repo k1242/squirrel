{
 "cells": [
  {
   "cell_type": "code",
   "execution_count": 9,
   "id": "7a70b65e-627b-4780-9606-1e1f91962b90",
   "metadata": {},
   "outputs": [],
   "source": [
    "import numpy as np\n",
    "U64 = np.uint64"
   ]
  },
  {
   "cell_type": "code",
   "execution_count": 83,
   "id": "23cdc1f8-eced-4129-aa1d-0f2ed0ef0f0e",
   "metadata": {},
   "outputs": [],
   "source": [
    "def bit2int(bb):\n",
    "    return np.sum(bb * (1 << np.arange(64, dtype=U64).reshape(8,8)[::-1]))\n",
    "\n",
    "def int2bit(bb):\n",
    "    return (((1 << np.arange(64, dtype=U64)) & bb) > 0).astype(U64).reshape(8, 8)[::-1]\n",
    "\n",
    "def square(index):\n",
    "    return np.ones(1, dtype=U64)[0] << index\n",
    "\n",
    "zero = square(40) * 0\n",
    "one = square(0)"
   ]
  },
  {
   "cell_type": "markdown",
   "id": "a8f4f91d-bd13-4db0-974e-2f9bd598580b",
   "metadata": {},
   "source": [
    "## PCG64"
   ]
  },
  {
   "cell_type": "code",
   "execution_count": 166,
   "id": "2dd64c0c-f8de-437b-831e-2319f3c116d3",
   "metadata": {},
   "outputs": [],
   "source": [
    "class PCG64:\n",
    "    def __init__(self, seed=np.uint64(0x853c49e6748fea9b)):\n",
    "        self.state = np.uint64(0)\n",
    "        self.multiplier = np.uint64(6364136223846793005)\n",
    "        self.increment = np.uint64(1442695040888963407)\n",
    "        self.seed_rng(seed)\n",
    "\n",
    "    def seed_rng(self, seed):\n",
    "        self.state = np.uint64(0)\n",
    "        self.next()\n",
    "        self.state += seed\n",
    "        self.next()\n",
    "\n",
    "    def next(self):\n",
    "        oldstate = self.state\n",
    "        with np.errstate(over='ignore'):\n",
    "            self.state = self.state * self.multiplier + self.increment\n",
    "\n",
    "        xorshifted = ((oldstate >> 18) ^ oldstate) >> 27\n",
    "        rot = oldstate >> 59\n",
    "        with np.errstate(over='ignore'):\n",
    "            res = (xorshifted >> rot) | (xorshifted << ((-rot) & 63))\n",
    "        return res\n",
    "\n",
    "    def __call__(self):\n",
    "        return self.next()"
   ]
  },
  {
   "cell_type": "code",
   "execution_count": 167,
   "id": "ebd86608-230f-42c1-9071-6c55eaef713d",
   "metadata": {},
   "outputs": [],
   "source": [
    "rng = PCG64();"
   ]
  },
  {
   "cell_type": "code",
   "execution_count": 181,
   "id": "fdd4de48-890b-469f-9ac9-4eb2c095b45f",
   "metadata": {},
   "outputs": [
    {
     "data": {
      "text/plain": [
       "'0b110110011011100110111101000010110111'"
      ]
     },
     "execution_count": 181,
     "metadata": {},
     "output_type": "execute_result"
    }
   ],
   "source": [
    "oldstate = rng.state\n",
    "xorshifted = ((oldstate >> 18) ^ oldstate) >> 27\n",
    "bin(xorshifted)"
   ]
  },
  {
   "cell_type": "code",
   "execution_count": 236,
   "id": "2235b126-766f-4efe-a68a-96cab7d2239a",
   "metadata": {},
   "outputs": [
    {
     "data": {
      "text/plain": [
       "'0110000000000001000000000000110001000000000000010000000000000000'"
      ]
     },
     "execution_count": 236,
     "metadata": {},
     "output_type": "execute_result"
    }
   ],
   "source": [
    "bin(6917810555231207424)[2:].zfill(64)"
   ]
  },
  {
   "cell_type": "code",
   "execution_count": 194,
   "id": "ac90bdbd-65a9-4f8a-bc2b-0d89d802161d",
   "metadata": {},
   "outputs": [
    {
     "data": {
      "text/plain": [
       "28"
      ]
     },
     "execution_count": 194,
     "metadata": {},
     "output_type": "execute_result"
    }
   ],
   "source": [
    "len(\"0000000000000000000000000000\")"
   ]
  },
  {
   "cell_type": "markdown",
   "id": "8d036db5-32c5-4b9b-9343-2f5767ab2ed3",
   "metadata": {},
   "source": [
    "## Pawn attack"
   ]
  },
  {
   "cell_type": "code",
   "execution_count": 67,
   "id": "993c1f03-42c7-44ae-9598-fec8742b058a",
   "metadata": {},
   "outputs": [
    {
     "name": "stdout",
     "output_type": "stream",
     "text": [
      "not_a_file = 18374403900871474942\n"
     ]
    }
   ],
   "source": [
    "bb = np.ones((8, 8), dtype = np.uint64)\n",
    "bb[:, 0] = 0\n",
    "not_a_file = bit2int(bb)\n",
    "print(\"not_a_file =\", bit2int(bb))"
   ]
  },
  {
   "cell_type": "code",
   "execution_count": 68,
   "id": "4ff5e512-6616-433d-9415-ccf92df4b5bc",
   "metadata": {},
   "outputs": [
    {
     "name": "stdout",
     "output_type": "stream",
     "text": [
      "not_h_file = 9187201950435737471\n"
     ]
    }
   ],
   "source": [
    "bb = np.ones((8, 8), dtype = np.uint64)\n",
    "bb[:, 7] = 0\n",
    "not_h_file = bit2int(bb)\n",
    "print(\"not_h_file =\", bit2int(bb))"
   ]
  },
  {
   "cell_type": "code",
   "execution_count": 69,
   "id": "e546c436-f255-42b5-bf25-2b6f34edf644",
   "metadata": {},
   "outputs": [
    {
     "name": "stdout",
     "output_type": "stream",
     "text": [
      "not_gh_file = 4557430888798830399\n"
     ]
    }
   ],
   "source": [
    "bb = np.ones((8, 8), dtype = np.uint64)\n",
    "bb[:, [6,7]] = 0\n",
    "not_gh_file = bit2int(bb)\n",
    "print(\"not_gh_file =\", bit2int(bb))"
   ]
  },
  {
   "cell_type": "code",
   "execution_count": 70,
   "id": "b84367f1-c56b-4cd4-b0a4-39ff2b27ee1c",
   "metadata": {},
   "outputs": [
    {
     "name": "stdout",
     "output_type": "stream",
     "text": [
      "not_ab_file = 18229723555195321596\n"
     ]
    }
   ],
   "source": [
    "bb = np.ones((8, 8), dtype = np.uint64)\n",
    "bb[:, [0,1]] = 0\n",
    "not_ab_file = bit2int(bb)\n",
    "print(\"not_ab_file =\", bit2int(bb))"
   ]
  },
  {
   "cell_type": "code",
   "execution_count": 122,
   "id": "a420cc87-645d-4aaf-a484-a082ed2e5c16",
   "metadata": {},
   "outputs": [
    {
     "data": {
      "text/plain": [
       "'{{0ULL,0ULL,0ULL,0ULL,0ULL,0ULL,0ULL,0ULL,2ULL,5ULL,10ULL,20ULL,40ULL,80ULL,160ULL,64ULL,512ULL,1280ULL,2560ULL,5120ULL,10240ULL,20480ULL,40960ULL,16384ULL,131072ULL,327680ULL,655360ULL,1310720ULL,2621440ULL,5242880ULL,10485760ULL,4194304ULL,33554432ULL,83886080ULL,167772160ULL,335544320ULL,671088640ULL,1342177280ULL,2684354560ULL,1073741824ULL,8589934592ULL,21474836480ULL,42949672960ULL,85899345920ULL,171798691840ULL,343597383680ULL,687194767360ULL,274877906944ULL,2199023255552ULL,5497558138880ULL,10995116277760ULL,21990232555520ULL,43980465111040ULL,87960930222080ULL,175921860444160ULL,70368744177664ULL,562949953421312ULL,1407374883553280ULL,2814749767106560ULL,5629499534213120ULL,11258999068426240ULL,22517998136852480ULL,45035996273704960ULL,18014398509481984ULL},{512ULL,1280ULL,2560ULL,5120ULL,10240ULL,20480ULL,40960ULL,16384ULL,131072ULL,327680ULL,655360ULL,1310720ULL,2621440ULL,5242880ULL,10485760ULL,4194304ULL,33554432ULL,83886080ULL,167772160ULL,335544320ULL,671088640ULL,1342177280ULL,2684354560ULL,1073741824ULL,8589934592ULL,21474836480ULL,42949672960ULL,85899345920ULL,171798691840ULL,343597383680ULL,687194767360ULL,274877906944ULL,2199023255552ULL,5497558138880ULL,10995116277760ULL,21990232555520ULL,43980465111040ULL,87960930222080ULL,175921860444160ULL,70368744177664ULL,562949953421312ULL,1407374883553280ULL,2814749767106560ULL,5629499534213120ULL,11258999068426240ULL,22517998136852480ULL,45035996273704960ULL,18014398509481984ULL,144115188075855872ULL,360287970189639680ULL,720575940379279360ULL,1441151880758558720ULL,2882303761517117440ULL,5764607523034234880ULL,11529215046068469760ULL,4611686018427387904ULL,0ULL,0ULL,0ULL,0ULL,0ULL,0ULL,0ULL,0ULL}}'"
      ]
     },
     "execution_count": 122,
     "metadata": {},
     "output_type": "execute_result"
    }
   ],
   "source": [
    "pawn_attacks = np.zeros((2, 64), dtype=U64);\n",
    "# black\n",
    "for j in range(64):\n",
    "    attacks = zero.copy();\n",
    "    bb = square(j);\n",
    "    if ((bb >> 7)& not_a_file): attacks |= (bb >> 7);\n",
    "    if ((bb >> 9)& not_h_file): attacks |= (bb >> 9);\n",
    "    pawn_attacks[0, j] = attacks\n",
    "\n",
    "# white\n",
    "for j in range(64):\n",
    "    attacks = zero.copy();\n",
    "    bb = square(j);\n",
    "    if ((bb << 7)& not_h_file): attacks |= (bb << 7);\n",
    "    if ((bb << 9)& not_a_file): attacks |= (bb << 9);\n",
    "    pawn_attacks[1, j] = attacks\n",
    "\n",
    "res = \"{{\"\n",
    "for j in range(64):\n",
    "    res += str(pawn_attacks[0, j]) + \"ULL\"\n",
    "    if j < 63: res += \",\"\n",
    "res += \"},{\"\n",
    "for j in range(64):\n",
    "    res += str(pawn_attacks[1, j]) + \"ULL\"\n",
    "    if j < 63: res += \",\"\n",
    "res += \"}}\"\n",
    "res"
   ]
  },
  {
   "cell_type": "code",
   "execution_count": 125,
   "id": "bb63f802-5b1f-4f28-8d16-75876a629ef3",
   "metadata": {},
   "outputs": [
    {
     "data": {
      "text/plain": [
       "array([[0, 0, 0, 0, 0, 0, 0, 0],\n",
       "       [0, 0, 0, 0, 0, 0, 0, 0],\n",
       "       [0, 0, 0, 0, 0, 0, 0, 0],\n",
       "       [0, 0, 0, 0, 0, 1, 0, 1],\n",
       "       [0, 0, 0, 0, 0, 0, 0, 0],\n",
       "       [0, 0, 0, 0, 0, 0, 0, 0],\n",
       "       [0, 0, 0, 0, 0, 0, 0, 0],\n",
       "       [0, 0, 0, 0, 0, 0, 0, 0]], dtype=uint64)"
      ]
     },
     "execution_count": 125,
     "metadata": {},
     "output_type": "execute_result"
    }
   ],
   "source": [
    "int2bit(pawn_attacks[0, 46])"
   ]
  },
  {
   "cell_type": "markdown",
   "id": "47ea086c-cb84-4b53-886c-f844342e98f6",
   "metadata": {},
   "source": [
    "## Knights atacks"
   ]
  },
  {
   "cell_type": "code",
   "execution_count": 128,
   "id": "15e643ad-455e-43c0-9378-06727d6a4219",
   "metadata": {},
   "outputs": [
    {
     "data": {
      "text/plain": [
       "'{132096ULL,329728ULL,659712ULL,1319424ULL,2638848ULL,5277696ULL,10489856ULL,4202496ULL,33816580ULL,84410376ULL,168886289ULL,337772578ULL,675545156ULL,1351090312ULL,2685403152ULL,1075839008ULL,8657044482ULL,21609056261ULL,43234889994ULL,86469779988ULL,172939559976ULL,345879119952ULL,687463207072ULL,275414786112ULL,2216203387392ULL,5531918402816ULL,11068131838464ULL,22136263676928ULL,44272527353856ULL,88545054707712ULL,175990581010432ULL,70506185244672ULL,567348067172352ULL,1416171111120896ULL,2833441750646784ULL,5666883501293568ULL,11333767002587136ULL,22667534005174272ULL,45053588738670592ULL,18049583422636032ULL,145241105196122112ULL,362539804446949376ULL,725361088165576704ULL,1450722176331153408ULL,2901444352662306816ULL,5802888705324613632ULL,11533718717099671552ULL,4620693356194824192ULL,288234782788157440ULL,576469569871282176ULL,1224997833292120064ULL,2449995666584240128ULL,4899991333168480256ULL,9799982666336960512ULL,1152939783987658752ULL,2305878468463689728ULL,1128098930098176ULL,2257297371824128ULL,4796069720358912ULL,9592139440717824ULL,19184278881435648ULL,38368557762871296ULL,4679521487814656ULL,9077567998918656ULL}'"
      ]
     },
     "execution_count": 128,
     "metadata": {},
     "output_type": "execute_result"
    }
   ],
   "source": [
    "knight_attacks = np.zeros((64), dtype=U64);\n",
    "# white\n",
    "for j in range(64):\n",
    "    attacks = zero.copy();\n",
    "    bb = square(j);\n",
    "    if ((bb >> 17) & not_h_file):  attacks |= (bb >> 17);\n",
    "    if ((bb >> 15) & not_a_file):  attacks |= (bb >> 15);\n",
    "    if ((bb >> 10) & not_gh_file): attacks |= (bb >> 10);\n",
    "    if ((bb >> 6)  & not_ab_file): attacks |= (bb >> 6);\n",
    "    if ((bb << 17) & not_a_file):  attacks |= (bb << 17);\n",
    "    if ((bb << 15) & not_h_file):  attacks |= (bb << 15);\n",
    "    if ((bb << 10) & not_ab_file): attacks |= (bb << 10);\n",
    "    if ((bb << 6)  & not_gh_file): attacks |= (bb << 6);\n",
    "    knight_attacks[j] = attacks\n",
    "\n",
    "res = \"{\"\n",
    "for j in range(64):\n",
    "    res += str(knight_attacks[j]) + \"ULL\"\n",
    "    if j < 63: res += \",\"\n",
    "res += \"}\"\n",
    "res"
   ]
  },
  {
   "cell_type": "markdown",
   "id": "fe705de4-8cee-4c5c-86c5-245b6c4a6e31",
   "metadata": {},
   "source": [
    "## King attacks"
   ]
  },
  {
   "cell_type": "code",
   "execution_count": 133,
   "id": "9aa52317-bb8f-4c65-824b-6acd1932440a",
   "metadata": {},
   "outputs": [
    {
     "data": {
      "text/plain": [
       "'{770ULL,1797ULL,3594ULL,7188ULL,14376ULL,28752ULL,57504ULL,49216ULL,197123ULL,460039ULL,920078ULL,1840156ULL,3680312ULL,7360624ULL,14721248ULL,12599488ULL,50463488ULL,117769984ULL,235539968ULL,471079936ULL,942159872ULL,1884319744ULL,3768639488ULL,3225468928ULL,12918652928ULL,30149115904ULL,60298231808ULL,120596463616ULL,241192927232ULL,482385854464ULL,964771708928ULL,825720045568ULL,3307175149568ULL,7718173671424ULL,15436347342848ULL,30872694685696ULL,61745389371392ULL,123490778742784ULL,246981557485568ULL,211384331665408ULL,846636838289408ULL,1975852459884544ULL,3951704919769088ULL,7903409839538176ULL,15806819679076352ULL,31613639358152704ULL,63227278716305408ULL,54114388906344448ULL,216739030602088448ULL,505818229730443264ULL,1011636459460886528ULL,2023272918921773056ULL,4046545837843546112ULL,8093091675687092224ULL,16186183351374184448ULL,13853283560024178688ULL,144959613005987840ULL,362258295026614272ULL,724516590053228544ULL,1449033180106457088ULL,2898066360212914176ULL,5796132720425828352ULL,11592265440851656704ULL,4665729213955833856ULL}'"
      ]
     },
     "execution_count": 133,
     "metadata": {},
     "output_type": "execute_result"
    }
   ],
   "source": [
    "king_attacks = np.zeros((64), dtype=U64);\n",
    "# white\n",
    "for j in range(64):\n",
    "    attacks = zero.copy();\n",
    "    bb = square(j);\n",
    "    if (bb >> 8): attacks |= (bb >> 8);\n",
    "    if ((bb >> 9) & not_h_file): attacks |= (bb >> 9);\n",
    "    if ((bb >> 7) & not_a_file): attacks |= (bb >> 7);\n",
    "    if ((bb >> 1) & not_h_file): attacks |= (bb >> 1);\n",
    "    if (bb << 8): attacks |= (bb << 8);\n",
    "    if ((bb << 9) & not_a_file): attacks |= (bb << 9);\n",
    "    if ((bb << 7) & not_h_file): attacks |= (bb << 7);\n",
    "    if ((bb << 1) & not_a_file): attacks |= (bb << 1);\n",
    "    king_attacks[j] = attacks\n",
    "\n",
    "res = \"{\"\n",
    "for j in range(64):\n",
    "    res += str(king_attacks[j]) + \"ULL\"\n",
    "    if j < 63: res += \",\"\n",
    "res += \"}\"\n",
    "res"
   ]
  },
  {
   "cell_type": "markdown",
   "id": "ed9e1191-bc2a-4be2-a568-4f0879d90455",
   "metadata": {},
   "source": [
    "## Bishop (mask)"
   ]
  },
  {
   "cell_type": "code",
   "execution_count": 141,
   "id": "ff788f3c-3451-49c6-acae-ea4209def4cc",
   "metadata": {},
   "outputs": [],
   "source": [
    "def mask_bishop_attacks(square: int) -> np.uint64:\n",
    "    # result attacks bitboard\n",
    "    attacks = np.uint64(0)\n",
    "    \n",
    "    # init target rank & files\n",
    "    tr = square // 8\n",
    "    tf = square % 8\n",
    "    \n",
    "    # mask relevant bishop occupancy bits\n",
    "    for r, f in zip(range(tr + 1, 7), range(tf + 1, 7)):\n",
    "        attacks |= np.uint64(1) << np.uint64(r * 8 + f)\n",
    "    for r, f in zip(range(tr - 1, 0, -1), range(tf + 1, 7)):\n",
    "        attacks |= np.uint64(1) << np.uint64(r * 8 + f)\n",
    "    for r, f in zip(range(tr + 1, 7), range(tf - 1, 0, -1)):\n",
    "        attacks |= np.uint64(1) << np.uint64(r * 8 + f)\n",
    "    for r, f in zip(range(tr - 1, 0, -1), range(tf - 1, 0, -1)):\n",
    "        attacks |= np.uint64(1) << np.uint64(r * 8 + f)\n",
    "    \n",
    "    # return attack map\n",
    "    return attacks"
   ]
  },
  {
   "cell_type": "code",
   "execution_count": 142,
   "id": "68a338d0-b1f7-4e58-aa9a-52bf6d15cc9d",
   "metadata": {},
   "outputs": [
    {
     "data": {
      "text/plain": [
       "'{18049651735527936ULL,70506452091904ULL,275415828992ULL,1075975168ULL,38021120ULL,8657588224ULL,2216338399232ULL,567382630219776ULL,9024825867763712ULL,18049651735527424ULL,70506452221952ULL,275449643008ULL,9733406720ULL,2216342585344ULL,567382630203392ULL,1134765260406784ULL,4512412933816832ULL,9024825867633664ULL,18049651768822272ULL,70515108615168ULL,2491752130560ULL,567383701868544ULL,1134765256220672ULL,2269530512441344ULL,2256206450263040ULL,4512412900526080ULL,9024834391117824ULL,18051867805491712ULL,637888545440768ULL,1135039602493440ULL,2269529440784384ULL,4539058881568768ULL,1128098963916800ULL,2256197927833600ULL,4514594912477184ULL,9592139778506752ULL,19184279556981248ULL,2339762086609920ULL,4538784537380864ULL,9077569074761728ULL,562958610993152ULL,1125917221986304ULL,2814792987328512ULL,5629586008178688ULL,11259172008099840ULL,22518341868716544ULL,9007336962655232ULL,18014673925310464ULL,2216338399232ULL,4432676798464ULL,11064376819712ULL,22137335185408ULL,44272556441600ULL,87995357200384ULL,35253226045952ULL,70506452091904ULL,567382630219776ULL,1134765260406784ULL,2832480465846272ULL,5667157807464448ULL,11333774449049600ULL,22526811443298304ULL,9024825867763712ULL,18049651735527936ULL}'"
      ]
     },
     "execution_count": 142,
     "metadata": {},
     "output_type": "execute_result"
    }
   ],
   "source": [
    "bishop_masks = np.zeros((64), dtype=U64);\n",
    "# white\n",
    "for j in range(64):\n",
    "    attacks = zero.copy();\n",
    "    bishop_masks[j] = mask_bishop_attacks(j)\n",
    "\n",
    "res = \"{\"\n",
    "for j in range(64):\n",
    "    res += str(bishop_masks[j]) + \"ULL\"\n",
    "    if j < 63: res += \",\"\n",
    "res += \"}\"\n",
    "res"
   ]
  },
  {
   "cell_type": "code",
   "execution_count": 248,
   "id": "59683f69-6d3d-4ea7-8098-91b553b52962",
   "metadata": {},
   "outputs": [
    {
     "data": {
      "text/plain": [
       "array([[6, 5, 5, 5, 5, 5, 5, 6],\n",
       "       [5, 5, 5, 5, 5, 5, 5, 5],\n",
       "       [5, 5, 7, 7, 7, 7, 5, 5],\n",
       "       [5, 5, 7, 9, 9, 7, 5, 5],\n",
       "       [5, 5, 7, 9, 9, 7, 5, 5],\n",
       "       [5, 5, 7, 7, 7, 7, 5, 5],\n",
       "       [5, 5, 5, 5, 5, 5, 5, 5],\n",
       "       [6, 5, 5, 5, 5, 5, 5, 6]], dtype=uint8)"
      ]
     },
     "execution_count": 248,
     "metadata": {},
     "output_type": "execute_result"
    }
   ],
   "source": [
    "bishop_relevant_bits = np.bitwise_count(bishop_masks)\n",
    "bishop_relevant_bits.reshape(8,8)"
   ]
  },
  {
   "cell_type": "markdown",
   "id": "22106e6d-1f2a-4054-a4db-c98ac693789a",
   "metadata": {},
   "source": [
    "## Rook (mask)"
   ]
  },
  {
   "cell_type": "code",
   "execution_count": 144,
   "id": "4256ba7a-a4aa-4aa6-bef9-32b8b6875131",
   "metadata": {},
   "outputs": [],
   "source": [
    "def mask_rook_attacks(square: int) -> np.uint64:\n",
    "    # result attacks bitboard\n",
    "    attacks = np.uint64(0)\n",
    "    \n",
    "    # init target rank & file\n",
    "    tr = square // 8\n",
    "    tf = square % 8\n",
    "    \n",
    "    # mask relevant rook occupancy bits\n",
    "    for r in range(tr + 1, 7):\n",
    "        attacks |= np.uint64(1) << np.uint64(r * 8 + tf)\n",
    "    for r in range(tr - 1, 0, -1):\n",
    "        attacks |= np.uint64(1) << np.uint64(r * 8 + tf)\n",
    "    for f in range(tf + 1, 7):\n",
    "        attacks |= np.uint64(1) << np.uint64(tr * 8 + f)\n",
    "    for f in range(tf - 1, 0, -1):\n",
    "        attacks |= np.uint64(1) << np.uint64(tr * 8 + f)\n",
    "    \n",
    "    # return attack map\n",
    "    return attacks"
   ]
  },
  {
   "cell_type": "code",
   "execution_count": 145,
   "id": "31d5eb65-e190-4b68-9b00-51b26878ba57",
   "metadata": {},
   "outputs": [
    {
     "data": {
      "text/plain": [
       "'{282578800148862ULL,565157600297596ULL,1130315200595066ULL,2260630401190006ULL,4521260802379886ULL,9042521604759646ULL,18085043209519166ULL,36170086419038334ULL,282578800180736ULL,565157600328704ULL,1130315200625152ULL,2260630401218048ULL,4521260802403840ULL,9042521604775424ULL,18085043209518592ULL,36170086419037696ULL,282578808340736ULL,565157608292864ULL,1130315208328192ULL,2260630408398848ULL,4521260808540160ULL,9042521608822784ULL,18085043209388032ULL,36170086418907136ULL,282580897300736ULL,565159647117824ULL,1130317180306432ULL,2260632246683648ULL,4521262379438080ULL,9042522644946944ULL,18085043175964672ULL,36170086385483776ULL,283115671060736ULL,565681586307584ULL,1130822006735872ULL,2261102847592448ULL,4521664529305600ULL,9042787892731904ULL,18085034619584512ULL,36170077829103616ULL,420017753620736ULL,699298018886144ULL,1260057572672512ULL,2381576680245248ULL,4624614895390720ULL,9110691325681664ULL,18082844186263552ULL,36167887395782656ULL,35466950888980736ULL,34905104758997504ULL,34344362452452352ULL,33222877839362048ULL,30979908613181440ULL,26493970160820224ULL,17522093256097792ULL,35607136465616896ULL,9079539427579068672ULL,8935706818303361536ULL,8792156787827803136ULL,8505056726876686336ULL,7930856604974452736ULL,6782456361169985536ULL,4485655873561051136ULL,9115426935197958144ULL}'"
      ]
     },
     "execution_count": 145,
     "metadata": {},
     "output_type": "execute_result"
    }
   ],
   "source": [
    "rook_masks = np.zeros((64), dtype=U64);\n",
    "# white\n",
    "for j in range(64):\n",
    "    attacks = zero.copy();\n",
    "    rook_masks[j] = mask_rook_attacks(j)\n",
    "\n",
    "res = \"{\"\n",
    "for j in range(64):\n",
    "    res += str(rook_masks[j]) + \"ULL\"\n",
    "    if j < 63: res += \",\"\n",
    "res += \"}\"\n",
    "res"
   ]
  },
  {
   "cell_type": "code",
   "execution_count": 148,
   "id": "db563794-bd2f-4fe0-9ca0-0adb71a81ba3",
   "metadata": {},
   "outputs": [
    {
     "data": {
      "text/plain": [
       "12"
      ]
     },
     "execution_count": 148,
     "metadata": {},
     "output_type": "execute_result"
    }
   ],
   "source": [
    "len(bin(4095)[2:])"
   ]
  },
  {
   "cell_type": "code",
   "execution_count": 249,
   "id": "706f5aea-588f-41a3-900a-316f3a24e5f8",
   "metadata": {},
   "outputs": [
    {
     "data": {
      "text/plain": [
       "array([[12, 11, 11, 11, 11, 11, 11, 12],\n",
       "       [11, 10, 10, 10, 10, 10, 10, 11],\n",
       "       [11, 10, 10, 10, 10, 10, 10, 11],\n",
       "       [11, 10, 10, 10, 10, 10, 10, 11],\n",
       "       [11, 10, 10, 10, 10, 10, 10, 11],\n",
       "       [11, 10, 10, 10, 10, 10, 10, 11],\n",
       "       [11, 10, 10, 10, 10, 10, 10, 11],\n",
       "       [12, 11, 11, 11, 11, 11, 11, 12]], dtype=uint8)"
      ]
     },
     "execution_count": 249,
     "metadata": {},
     "output_type": "execute_result"
    }
   ],
   "source": [
    "rook_relevant_bits = np.bitwise_count(rook_masks)\n",
    "rook_relevant_bits.reshape(8,8)"
   ]
  },
  {
   "cell_type": "markdown",
   "id": "86cf9e94-38ac-4ebe-8126-3739217b55d9",
   "metadata": {},
   "source": [
    "## Generate magic numbers"
   ]
  },
  {
   "cell_type": "code",
   "execution_count": 245,
   "id": "9fae7eaa-2f62-458c-9996-ff93502b38e8",
   "metadata": {},
   "outputs": [],
   "source": [
    "rng = np.random.Generator(np.random.PCG64DXSM())"
   ]
  },
  {
   "cell_type": "code",
   "execution_count": 246,
   "id": "da686c73-512c-4657-8eaf-44685ba96b92",
   "metadata": {},
   "outputs": [],
   "source": [
    "rnd = rng.integers(low=0, high=np.iinfo(np.uint64).max, size=(1000, 1000), dtype=np.uint64)"
   ]
  },
  {
   "cell_type": "code",
   "execution_count": null,
   "id": "23ba82b0-dfbb-48e9-b2cd-96d4e77054e8",
   "metadata": {},
   "outputs": [],
   "source": [
    "0100000 0 0 0 1 0 0 "
   ]
  },
  {
   "cell_type": "code",
   "execution_count": 251,
   "id": "2781dd60-ccf4-477b-90e8-88bef4e819ec",
   "metadata": {},
   "outputs": [
    {
     "data": {
      "text/plain": [
       "2052"
      ]
     },
     "execution_count": 251,
     "metadata": {},
     "output_type": "execute_result"
    }
   ],
   "source": [
    "0b0100000000100"
   ]
  },
  {
   "cell_type": "code",
   "execution_count": 252,
   "id": "1fab0334-2fa1-4246-9b59-a1bca1bdfa79",
   "metadata": {},
   "outputs": [
    {
     "data": {
      "text/plain": [
       "2.09664"
      ]
     },
     "execution_count": 252,
     "metadata": {},
     "output_type": "execute_result"
    }
   ],
   "source": [
    "64 * 4095 * 8 * 1e-6"
   ]
  },
  {
   "cell_type": "code",
   "execution_count": null,
   "id": "48cc3c07-3c41-4988-a7a7-80c3b66932da",
   "metadata": {},
   "outputs": [],
   "source": []
  },
  {
   "cell_type": "code",
   "execution_count": null,
   "id": "eb8a3308-a09e-4e90-991a-1d2db945dc7f",
   "metadata": {},
   "outputs": [],
   "source": []
  },
  {
   "cell_type": "code",
   "execution_count": null,
   "id": "44e6e58b-3eee-4ca6-bc0d-70e3bafb3956",
   "metadata": {},
   "outputs": [],
   "source": []
  },
  {
   "cell_type": "code",
   "execution_count": null,
   "id": "216a6563-bcc3-46b9-83a7-97eb5bc5e76a",
   "metadata": {},
   "outputs": [],
   "source": []
  },
  {
   "cell_type": "code",
   "execution_count": null,
   "id": "daa16067-45cf-4b78-8aa1-2d74087502f8",
   "metadata": {},
   "outputs": [],
   "source": []
  },
  {
   "cell_type": "code",
   "execution_count": null,
   "id": "e5de2198-72dd-46ab-978a-a817001b7d08",
   "metadata": {},
   "outputs": [],
   "source": []
  },
  {
   "cell_type": "code",
   "execution_count": null,
   "id": "35978281-35ca-4eeb-b6e1-1864b79faa3b",
   "metadata": {},
   "outputs": [],
   "source": []
  },
  {
   "cell_type": "code",
   "execution_count": null,
   "id": "db5073dd-8c69-46b2-9e23-5f0504b40164",
   "metadata": {},
   "outputs": [],
   "source": []
  },
  {
   "cell_type": "code",
   "execution_count": 66,
   "id": "26b67b28-f371-41f9-805d-9841228f8527",
   "metadata": {},
   "outputs": [
    {
     "data": {
      "text/plain": [
       "np.True_"
      ]
     },
     "execution_count": 66,
     "metadata": {},
     "output_type": "execute_result"
    }
   ],
   "source": [
    "bb = np.ones((8, 8), dtype = np.uint64)\n",
    "bb[0] = 0\n",
    "# print(bit2int(bb))\n",
    "(int2bit(bit2int(bb)) == bb).all()"
   ]
  },
  {
   "cell_type": "code",
   "execution_count": 82,
   "id": "f89a3adc-4595-4f2c-85d4-75aa5a09d89f",
   "metadata": {},
   "outputs": [
    {
     "data": {
      "text/plain": [
       "np.uint64(1)"
      ]
     },
     "execution_count": 82,
     "metadata": {},
     "output_type": "execute_result"
    }
   ],
   "source": [
    "\n",
    "one"
   ]
  },
  {
   "cell_type": "code",
   "execution_count": null,
   "id": "41b1af01-9259-45f4-b7c6-7741ffcacb53",
   "metadata": {},
   "outputs": [],
   "source": []
  },
  {
   "cell_type": "code",
   "execution_count": 43,
   "id": "a8e1d1b2-ace8-4047-bb2a-aaa7b80e7b4b",
   "metadata": {},
   "outputs": [],
   "source": [
    "pawn_attacks = np.zeros((2, 64), dtype=U64)"
   ]
  },
  {
   "cell_type": "code",
   "execution_count": null,
   "id": "fbd887f5-284d-4b44-8c6e-8d07b243f28f",
   "metadata": {},
   "outputs": [],
   "source": []
  },
  {
   "cell_type": "code",
   "execution_count": null,
   "id": "8ac15b9f-2830-4f89-8341-364d953d1e51",
   "metadata": {},
   "outputs": [],
   "source": []
  },
  {
   "cell_type": "code",
   "execution_count": null,
   "id": "ad306af0-e24c-4838-99cd-7f1eae6c0153",
   "metadata": {},
   "outputs": [],
   "source": []
  },
  {
   "cell_type": "code",
   "execution_count": null,
   "id": "d18c99c3-ae60-463e-9b95-899b0536ca5b",
   "metadata": {},
   "outputs": [],
   "source": []
  },
  {
   "cell_type": "code",
   "execution_count": null,
   "id": "5611b051-2e1e-4a42-a030-e3b959c1d0df",
   "metadata": {},
   "outputs": [],
   "source": []
  },
  {
   "cell_type": "code",
   "execution_count": 40,
   "id": "8d4e7c50-f5b5-437d-9b5c-a868cdb6311e",
   "metadata": {},
   "outputs": [
    {
     "name": "stdout",
     "output_type": "stream",
     "text": [
      "35184372088832\n"
     ]
    }
   ],
   "source": [
    "bb = np.zeros((8, 8), dtype = np.uint64)\n",
    "bb[2, 5] = 1\n",
    "print(bit2int(bb))"
   ]
  },
  {
   "cell_type": "code",
   "execution_count": null,
   "id": "0b717108-3470-41d5-8b82-03b44bc6a156",
   "metadata": {},
   "outputs": [],
   "source": []
  },
  {
   "cell_type": "code",
   "execution_count": null,
   "id": "50e4f22e-b35c-4559-b697-0f15c7ebb1bd",
   "metadata": {},
   "outputs": [],
   "source": []
  },
  {
   "cell_type": "code",
   "execution_count": 30,
   "id": "7db4677c-68f3-481e-b01f-71106c0458a2",
   "metadata": {},
   "outputs": [],
   "source": [
    "import torch\n",
    "import time"
   ]
  },
  {
   "cell_type": "code",
   "execution_count": 44,
   "id": "fd0fda4e-36dd-40d1-9cea-8431d1be52ac",
   "metadata": {},
   "outputs": [
    {
     "name": "stdout",
     "output_type": "stream",
     "text": [
      "torch.float64  |  cpu   |  29 μs\n",
      "torch.float32  |  cpu   |  16 μs\n",
      "torch.float16  |  cpu   |  121 μs\n"
     ]
    }
   ],
   "source": [
    "N = 256\n",
    "R = 100\n",
    "\n",
    "for device in (torch.device(\"cpu\"),):\n",
    "    for dtype in (torch.float64, torch.float32, torch.float16):\n",
    "        ts = torch.zeros((R,), dtype=torch.float64)\n",
    "        for j in range(R):\n",
    "            M = torch.rand((N,N), dtype=dtype,device=device) - 1/2\n",
    "            v1 = torch.rand((1,N), dtype=dtype,device=device) - 1/2\n",
    "\n",
    "            t1 = time.perf_counter()\n",
    "            v2 = torch.matmul(v1, M)\n",
    "            t2 = time.perf_counter()\n",
    "\n",
    "            ts[j] = (t2-t1) * 1e3\n",
    "\n",
    "        print(f\"{str(dtype):15}|  {str(device):6}|  {int(round(1e3*ts.mean().item()))} μs\")"
   ]
  },
  {
   "cell_type": "code",
   "execution_count": null,
   "id": "433a1073-57bc-4888-848e-5e4615ea8f90",
   "metadata": {},
   "outputs": [],
   "source": []
  },
  {
   "cell_type": "code",
   "execution_count": null,
   "id": "5bf1bb9b-f918-492a-801d-08cc49791fe4",
   "metadata": {},
   "outputs": [],
   "source": []
  },
  {
   "cell_type": "code",
   "execution_count": null,
   "id": "49bdc484-4e7d-4e55-a243-9d336e3bc0b3",
   "metadata": {},
   "outputs": [],
   "source": []
  },
  {
   "cell_type": "code",
   "execution_count": null,
   "id": "340b5ec0-a8cf-4d23-87b8-6ca952d55e0e",
   "metadata": {},
   "outputs": [],
   "source": []
  },
  {
   "cell_type": "code",
   "execution_count": null,
   "id": "45f0508e-de43-4324-9f67-01a934ee0591",
   "metadata": {},
   "outputs": [],
   "source": []
  }
 ],
 "metadata": {
  "kernelspec": {
   "display_name": "Python (matchbox)",
   "language": "python",
   "name": "matchbox"
  },
  "language_info": {
   "codemirror_mode": {
    "name": "ipython",
    "version": 3
   },
   "file_extension": ".py",
   "mimetype": "text/x-python",
   "name": "python",
   "nbconvert_exporter": "python",
   "pygments_lexer": "ipython3",
   "version": "3.12.7"
  }
 },
 "nbformat": 4,
 "nbformat_minor": 5
}
